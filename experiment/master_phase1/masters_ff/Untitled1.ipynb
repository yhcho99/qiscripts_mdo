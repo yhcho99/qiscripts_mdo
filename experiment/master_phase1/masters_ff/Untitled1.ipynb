{
 "cells": [
  {
   "cell_type": "code",
   "execution_count": 5,
   "id": "noticed-shakespeare",
   "metadata": {},
   "outputs": [],
   "source": [
    "import pandas as pd\n",
    "from pathlib import Path"
   ]
  },
  {
   "cell_type": "code",
   "execution_count": 6,
   "id": "comparable-alarm",
   "metadata": {},
   "outputs": [],
   "source": [
    "PATH = Path(\"/home/sronly/sr-storage/after_ff\")\n",
    "SUBS = [\n",
    "    (\"2001-01-31\", \"strategy/performance.csv\"),\n",
    "    (\"2001-01-31\", \"intermediate/U2/strategy/performance.csv\"),\n",
    "    (\"2001-01-31\", \"intermediate/U3/strategy/performance.csv\"),\n",
    "    (\"2001-01-31\", \"intermediate/SU95/strategy/performance.csv\"),\n",
    "    (\"2003-01-31\", \"intermediate/SU02/strategy/performance.csv\"),\n",
    "    (\"2011-01-31\", \"intermediate/SU10/strategy/performance.csv\"),\n",
    "    (\"2016-01-31\", \"intermediate/SU15/strategy/performance.csv\"),\n",
    "]"
   ]
  },
  {
   "cell_type": "code",
   "execution_count": 10,
   "id": "mediterranean-breathing",
   "metadata": {},
   "outputs": [],
   "source": [
    "rets = []\n",
    "for st, sub in SUBS:\n",
    "    ret = pd.read_csv(PATH / sub, index_col=0, parse_dates=True).loc[st:, \"total_return\"].astype(float)\n",
    "    rets.append(ret)\n",
    "rets = pd.concat(rets, axis=1)\n",
    "rets.columns = [\"U1\", \"U2\", \"U3\", \"SU95\", \"SU02\", \"SU10\", \"SU15\"]\n",
    "rets.to_csv(PATH / \"allpfm.csv\")"
   ]
  }
 ],
 "metadata": {
  "kernelspec": {
   "display_name": "Python 3",
   "language": "python",
   "name": "python3"
  },
  "language_info": {
   "codemirror_mode": {
    "name": "ipython",
    "version": 3
   },
   "file_extension": ".py",
   "mimetype": "text/x-python",
   "name": "python",
   "nbconvert_exporter": "python",
   "pygments_lexer": "ipython3",
   "version": "3.8.5"
  }
 },
 "nbformat": 4,
 "nbformat_minor": 5
}
